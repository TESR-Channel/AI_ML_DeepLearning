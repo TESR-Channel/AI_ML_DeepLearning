{
  "nbformat": 4,
  "nbformat_minor": 0,
  "metadata": {
    "colab": {
      "name": "2_TensorFlowKeras_Resnet50_image_classify.ipynb",
      "provenance": [],
      "collapsed_sections": [],
      "authorship_tag": "ABX9TyOZeJ3HdVaGnDX5S3hgT36u",
      "include_colab_link": true
    },
    "kernelspec": {
      "name": "python3",
      "display_name": "Python 3"
    }
  },
  "cells": [
    {
      "cell_type": "markdown",
      "metadata": {
        "id": "view-in-github",
        "colab_type": "text"
      },
      "source": [
        "<a href=\"https://colab.research.google.com/github/anoney/AI_ML_DeepLearning/blob/master/2_TensorFlowKeras_Resnet50_image_classify.ipynb\" target=\"_parent\"><img src=\"https://colab.research.google.com/assets/colab-badge.svg\" alt=\"Open In Colab\"/></a>"
      ]
    },
    {
      "cell_type": "code",
      "metadata": {
        "id": "3Z90TfDqtIYh",
        "colab_type": "code",
        "colab": {}
      },
      "source": [
        "# TensorFlow and tf.keras\n",
        "import tensorflow as tf\n",
        "from tensorflow import keras\n",
        "\n",
        "from keras.applications import Xception, resnet50\n",
        "from keras.preprocessing import image\n",
        "from keras.applications.imagenet_utils import decode_predictions\n",
        "\n",
        "# Helper libraries\n",
        "import numpy as np\n",
        "import cv2\n",
        "from google.colab.patches import cv2_imshow\n",
        "\n",
        "# load an image \n",
        "Testing_img_path = \"./Testing_image/football.jpg\"\n",
        "input_image = cv2.imread(Testing_img_path)\n",
        "\n",
        "# Preprae data\n",
        "input_image = cv2.resize(input_image,(224, 224))\n",
        "input_image = np.expand_dims(input_image, axis=0) # Change the shape of image array like input image when trained\n",
        "\n",
        "# Load the ResNet50 model\n",
        "loadpath = \"Resnet50.model\"\n",
        "resnet_model = tf.keras.models.load_model(loadpath)\n",
        "\n",
        "# get the predicted probabilities for each class\n",
        "predictions = resnet_model.predict(input_image)\n",
        "print(\"Predicted Top3 is:\", decode_predictions(predictions, top=3)[0])\n",
        "Answer = decode_predictions(predictions, top=1)[0][0][1]\n",
        "print(\"Predicted = \", Answer)\n",
        "\n",
        "# Visualize, check the answer\n",
        "img = cv2.imread(Testing_img_path)\n",
        "cv2_imshow(img) #cv2.imshow('Answer',img)\n",
        "cv2.waitKey(0)\n",
        "cv2.destroyAllWindows()"
      ],
      "execution_count": null,
      "outputs": []
    }
  ]
}