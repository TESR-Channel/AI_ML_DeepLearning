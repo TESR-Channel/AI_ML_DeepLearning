{
  "nbformat": 4,
  "nbformat_minor": 0,
  "metadata": {
    "colab": {
      "name": "3.TensorFlow_keras_Detect_Number_Prediction_Part.ipynb",
      "provenance": [],
      "collapsed_sections": [],
      "mount_file_id": "1xHF8cBienK2HbkLdaKGFfvlERQG749Dd",
      "authorship_tag": "ABX9TyMKi6XEY8E2FDiNtvAYqQnG",
      "include_colab_link": true
    },
    "kernelspec": {
      "name": "python3",
      "display_name": "Python 3"
    }
  },
  "cells": [
    {
      "cell_type": "markdown",
      "metadata": {
        "id": "view-in-github",
        "colab_type": "text"
      },
      "source": [
        "<a href=\"https://colab.research.google.com/github/anoney/AI_ML_DeepLearning/blob/master/3_TensorFlow_keras_Detect_Number_Prediction_Part.ipynb\" target=\"_parent\"><img src=\"https://colab.research.google.com/assets/colab-badge.svg\" alt=\"Open In Colab\"/></a>"
      ]
    },
    {
      "cell_type": "code",
      "metadata": {
        "id": "Jbrt-BXzaTac",
        "colab_type": "code",
        "colab": {
          "base_uri": "https://localhost:8080/",
          "height": 120
        },
        "outputId": "29357cec-826b-4a14-ef70-a1accc068d23"
      },
      "source": [
        "# TensorFlow and tf.keras\n",
        "import tensorflow as tf\n",
        "from tensorflow import keras\n",
        "\n",
        "# Helper libraries\n",
        "import numpy as np\n",
        "import cv2\n",
        "from google.colab.patches import cv2_imshow\n",
        "\n",
        "# load an image\n",
        "Testing_img_path = \"./drive/My Drive/Colab Notebooks/3.TensorflowKerasDetectNumber/Testing_image/0.jpg\"\n",
        "input_image = cv2.imread(Testing_img_path,cv2.IMREAD_GRAYSCALE)\n",
        "\n",
        "# Preprae data\n",
        "input_image = cv2.resize(input_image,(28, 28))\n",
        "input_image = cv2.bitwise_not(input_image) # invert Black to White like data input when trained (Line is White)\n",
        "input_image = np.expand_dims(input_image, axis=0) # Change the shape of image array like input image when trained\n",
        "\n",
        "# ***load model***\n",
        "loadpath = \"./drive/My Drive/Colab Notebooks/3.TensorflowKerasDetectNumber/num_reader.model\"\n",
        "model = tf.keras.models.load_model(loadpath)\n",
        "\n",
        "# Make predictions\n",
        "predictions = model.predict(input_image)\n",
        "print(np.argmax(predictions))\n",
        "\n",
        "# Visualize, check the answer\n",
        "Original_input_image_testing = cv2.imread(Testing_img_path)\n",
        "print(\"This is what your computer has seen.\")\n",
        "cv2_imshow(Original_input_image_testing)\n",
        "cv2.waitKey(0)\n",
        "cv2.destroyAllWindows()\n"
      ],
      "execution_count": 11,
      "outputs": [
        {
          "output_type": "stream",
          "text": [
            "WARNING:tensorflow:10 out of the last 10 calls to <function Model.make_predict_function.<locals>.predict_function at 0x7fb56664c8c8> triggered tf.function retracing. Tracing is expensive and the excessive number of tracings could be due to (1) creating @tf.function repeatedly in a loop, (2) passing tensors with different shapes, (3) passing Python objects instead of tensors. For (1), please define your @tf.function outside of the loop. For (2), @tf.function has experimental_relax_shapes=True option that relaxes argument shapes that can avoid unnecessary retracing. For (3), please refer to https://www.tensorflow.org/tutorials/customization/performance#python_or_tensor_args and https://www.tensorflow.org/api_docs/python/tf/function for  more details.\n",
            "0\n",
            "This is what your computer has seen.\n"
          ],
          "name": "stdout"
        },
        {
          "output_type": "display_data",
          "data": {
            "image/png": "[encoded data removed]",
            "text/plain": [
              "<PIL.Image.Image image mode=RGB size=32x32 at 0x7FB5644BC048>"
            ]
          },
          "metadata": {
            "tags": []
          }
        }
      ]
    }
  ]
}