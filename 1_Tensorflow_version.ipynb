{
  "nbformat": 4,
  "nbformat_minor": 0,
  "metadata": {
    "colab": {
      "name": "1.Tensorflow_version.ipynb",
      "provenance": [],
      "collapsed_sections": [],
      "authorship_tag": "ABX9TyO08Boxan9fmdRYFTjA6DJX",
      "include_colab_link": true
    },
    "kernelspec": {
      "name": "python3",
      "display_name": "Python 3"
    }
  },
  "cells": [
    {
      "cell_type": "markdown",
      "metadata": {
        "id": "view-in-github",
        "colab_type": "text"
      },
      "source": [
        "<a href=\"https://colab.research.google.com/github/anoney/AI_ML_DeepLearning/blob/master/1_Tensorflow_version.ipynb\" target=\"_parent\"><img src=\"https://colab.research.google.com/assets/colab-badge.svg\" alt=\"Open In Colab\"/></a>"
      ]
    },
    {
      "cell_type": "code",
      "metadata": {
        "id": "8N78vJnYj0_Q",
        "colab_type": "code",
        "colab": {}
      },
      "source": [
        "# TensorFlow and tf.keras\n",
        "import tensorflow as tf #sudo pip3 install tensorflow\n",
        "from tensorflow import keras #sudo pip3 install keras\n",
        "from tensorflow.keras import layers\n",
        "\n",
        "print(\"tensorflow vesion \" + tf.version.VERSION)\n",
        "print(\"keras vesion \" + tf.keras.__version__)\n",
        "\n"
      ],
      "execution_count": null,
      "outputs": []
    }
  ]
}