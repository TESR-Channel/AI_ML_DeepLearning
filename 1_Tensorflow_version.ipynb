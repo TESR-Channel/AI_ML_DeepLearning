{
  "nbformat": 4,
  "nbformat_minor": 0,
  "metadata": {
    "colab": {
      "name": "1.Tensorflow_version.ipynb",
      "provenance": [],
      "collapsed_sections": []
    },
    "kernelspec": {
      "name": "python3",
      "display_name": "Python 3"
    }
  },
  "cells": [
    {
      "cell_type": "code",
      "metadata": {
        "id": "8N78vJnYj0_Q",
        "colab_type": "code",
        "colab": {
          "base_uri": "https://localhost:8080/",
          "height": 51
        },
        "outputId": "41835b41-a298-427a-f708-74e543c317fe"
      },
      "source": [
        "# TensorFlow and tf.keras\n",
        "import tensorflow as tf #sudo pip3 install tensorflow\n",
        "from tensorflow import keras #sudo pip3 install keras\n",
        "from tensorflow.keras import layers\n",
        "\n",
        "print(\"tensorflow vesion \" + tf.version.VERSION)\n",
        "print(\"keras vesion \" + tf.keras.__version__)\n",
        "\n"
      ],
      "execution_count": 2,
      "outputs": [
        {
          "output_type": "stream",
          "text": [
            "tensorflow vesion 2.3.0\n",
            "keras vesion 2.4.0\n"
          ],
          "name": "stdout"
        }
      ]
    }
  ]
}