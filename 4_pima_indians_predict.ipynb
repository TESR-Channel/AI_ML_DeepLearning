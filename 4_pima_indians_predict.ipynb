{
  "nbformat": 4,
  "nbformat_minor": 0,
  "metadata": {
    "colab": {
      "name": "4.pima-indians_predict.ipynb",
      "provenance": [],
      "mount_file_id": "1qzlKAMizf32PSGZhz0mCGoLYAwK5R2ym",
      "authorship_tag": "ABX9TyPc8OC+SWEDRUgqh3pPEqrg",
      "include_colab_link": true
    },
    "kernelspec": {
      "name": "python3",
      "display_name": "Python 3"
    }
  },
  "cells": [
    {
      "cell_type": "markdown",
      "metadata": {
        "id": "view-in-github",
        "colab_type": "text"
      },
      "source": [
        "<a href=\"https://colab.research.google.com/github/anoney/AI_ML_DeepLearning/blob/master/4_pima_indians_predict.ipynb\" target=\"_parent\"><img src=\"https://colab.research.google.com/assets/colab-badge.svg\" alt=\"Open In Colab\"/></a>"
      ]
    },
    {
      "cell_type": "code",
      "metadata": {
        "id": "GSfolD8xgalX",
        "colab_type": "code",
        "colab": {}
      },
      "source": [
        "# TensorFlow and tf.keras\n",
        "import tensorflow as tf\n",
        "from tensorflow import keras\n",
        "\n",
        "# Helper libraries\n",
        "import numpy as np\n",
        "import pandas as pd # data processing, CSV file I/O (e.g. pd.read_csv)\n",
        "\n",
        "# load the dataset\n",
        "datasetpath = \"./drive/My Drive/Colab Notebooks/4.TensorflowKeras_CSV_table/pima-indians-diabetes_data.csv\"\n",
        "pdata = pd.read_csv(datasetpath,sep=\",\",header=None)\n",
        "print(pdata) # all of data\n",
        "\n",
        "# convert to numpy\n",
        "Num_dataset = pdata.values\n",
        "input_value = Num_dataset[1:,0:8] # input\n",
        "input_value = input_value.astype(np.float)\n",
        "output_expect_value = Num_dataset[1:,8]  # output\n",
        "output_expect_value = output_expect_value.astype(np.float)\n",
        "\n",
        "# load model\n",
        "loadmodel_path = \"./drive/My Drive/Colab Notebooks/4.TensorflowKeras_CSV_table/pima-indians.model\"\n",
        "model = tf.keras.models.load_model(loadmodel_path)\n",
        "\n",
        "# make class predictions with the model\n",
        "predictions = model.predict_classes(input_value)\n",
        "count = 0\n",
        "score = 0\n",
        "# summarize the first 768 cases\n",
        "for i in range(0,768):\n",
        "  print(\"case %d). %s => %d (expected %d)\" % (i+1,input_value[i].tolist(), predictions[i], output_expect_value[i]))\n",
        "  count = count + 1\n",
        "  if predictions[i] == output_expect_value[i]:\n",
        "    score = score + 1\n",
        "print(\"from %d correct %d accuracy: %f\" % (count,score,((100*score)/count)))"
      ],
      "execution_count": null,
      "outputs": []
    }
  ]
}